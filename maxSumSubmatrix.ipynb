{
  "nbformat": 4,
  "nbformat_minor": 0,
  "metadata": {
    "colab": {
      "provenance": []
    },
    "kernelspec": {
      "name": "python3",
      "display_name": "Python 3"
    },
    "language_info": {
      "name": "python"
    }
  },
  "cells": [
    {
      "cell_type": "markdown",
      "source": [
        "Given an m x n matrix matrix and an integer k, return the max sum of a rectangle in the matrix such that its sum is no larger than k.\n",
        "\n",
        "It is guaranteed that there will be a rectangle with a sum no larger than k.\n"
      ],
      "metadata": {
        "id": "mfAOBtolFbQB"
      }
    },
    {
      "cell_type": "code",
      "source": [
        "import bisect\n",
        "\n",
        "class Solution:\n",
        "    def maxSumSubmatrix(self, matrix, k):\n",
        "        def maxSumSubarray(arr):\n",
        "            prefix_sums = [0]\n",
        "            max_sum = float('-inf')\n",
        "            curr_sum = 0\n",
        "\n",
        "            for num in arr:\n",
        "                curr_sum += num\n",
        "                idx = bisect.bisect_left(prefix_sums, curr_sum - k)\n",
        "                if idx < len(prefix_sums):\n",
        "                    max_sum = max(max_sum, curr_sum - prefix_sums[idx])\n",
        "                bisect.insort_left(prefix_sums, curr_sum)\n",
        "\n",
        "            return max_sum\n",
        "\n",
        "        m, n = len(matrix), len(matrix[0])\n",
        "        max_sum = float('-inf')\n",
        "\n",
        "        for left in range(n):\n",
        "            prefix_sums = [0] * m\n",
        "            for right in range(left, n):\n",
        "                for row in range(m):\n",
        "                    prefix_sums[row] += matrix[row][right]\n",
        "                max_sum = max(max_sum, maxSumSubarray(prefix_sums))\n",
        "\n",
        "        return max_sum\n",
        "\n",
        "\n",
        "\n",
        ""
      ],
      "metadata": {
        "id": "_yuNJuCeGCau"
      },
      "execution_count": 1,
      "outputs": []
    },
    {
      "cell_type": "code",
      "source": [
        "matrix = [[1, 0, 1], [0, -2, 3]]\n",
        "k = 2\n",
        "print(Solution().maxSumSubmatrix(matrix, k))"
      ],
      "metadata": {
        "colab": {
          "base_uri": "https://localhost:8080/"
        },
        "id": "NpqJnqfBGbpq",
        "outputId": "8b18f504-a9be-4b90-a7d4-eeb557e0ce84"
      },
      "execution_count": 2,
      "outputs": [
        {
          "output_type": "stream",
          "name": "stdout",
          "text": [
            "2\n"
          ]
        }
      ]
    }
  ]
}