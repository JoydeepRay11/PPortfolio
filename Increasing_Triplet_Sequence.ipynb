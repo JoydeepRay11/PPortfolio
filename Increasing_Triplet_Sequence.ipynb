{
  "nbformat": 4,
  "nbformat_minor": 0,
  "metadata": {
    "colab": {
      "provenance": []
    },
    "kernelspec": {
      "name": "python3",
      "display_name": "Python 3"
    },
    "language_info": {
      "name": "python"
    }
  },
  "cells": [
    {
      "cell_type": "markdown",
      "source": [
        "Given an integer array nums, return true if there exists a triple of indices (i, j, k) such that i < j < k and nums[i] < nums[j] < nums[k]. If no such indices exists, return false."
      ],
      "metadata": {
        "id": "mfAOBtolFbQB"
      }
    },
    {
      "cell_type": "code",
      "source": [
        "class Solution:\n",
        "    def increasingTriplet(self, nums):\n",
        "        if len(nums) < 3:\n",
        "            return False\n",
        "\n",
        "        min_num = float('inf')\n",
        "        mid_num = float('inf')\n",
        "\n",
        "        for num in nums:\n",
        "            if num <= min_num:\n",
        "                min_num = num\n",
        "            elif num <= mid_num:\n",
        "                mid_num = num\n",
        "            else:\n",
        "                return True\n",
        "\n",
        "        return False\n",
        "\n",
        "nums = [1, 2, 3, 4, 5]\n",
        "print(Solution().increasingTriplet(nums))"
      ],
      "metadata": {
        "colab": {
          "base_uri": "https://localhost:8080/"
        },
        "id": "_yuNJuCeGCau",
        "outputId": "86b5b578-babe-4cd2-dd05-94e140f69430"
      },
      "execution_count": 4,
      "outputs": [
        {
          "output_type": "stream",
          "name": "stdout",
          "text": [
            "True\n"
          ]
        }
      ]
    }
  ]
}