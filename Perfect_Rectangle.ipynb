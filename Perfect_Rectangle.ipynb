{
  "cells": [
    {
      "cell_type": "markdown",
      "metadata": {
        "id": "mfAOBtolFbQB"
      },
      "source": [
        "Given an array rectangles where rectangles[i] = [xi, yi, ai, bi] represents an axis-aligned rectangle. The bottom-left point of the rectangle is (xi, yi) and the top-right point of it is (ai, bi).\n",
        "\n",
        "Return true if all the rectangles together form an exact cover of a rectangular region.\n"
      ]
    },
    {
      "cell_type": "code",
      "execution_count": 3,
      "metadata": {
        "colab": {
          "base_uri": "https://localhost:8080/"
        },
        "id": "_yuNJuCeGCau",
        "outputId": "b0746f30-881a-4daa-aa83-dad85e455a14"
      },
      "outputs": [
        {
          "name": "stdout",
          "output_type": "stream",
          "text": [
            "True\n"
          ]
        }
      ],
      "source": [
        "class Solution:\n",
        "    def isRectangleCover(self, rectangles):\n",
        "        area = 0\n",
        "        corners = set()\n",
        "        for x1, y1, x2, y2 in rectangles:\n",
        "            area += (x2 - x1) * (y2 - y1)\n",
        "            corners ^= {(x1, y1), (x2, y2), (x1, y2), (x2, y1)}\n",
        "\n",
        "        if len(corners) != 4:\n",
        "            return False\n",
        "\n",
        "        min_x, min_y = min(corners, key=lambda x: (x[0], x[1]))\n",
        "        max_x, max_y = max(corners, key=lambda x: (x[0], x[1]))\n",
        "        return area == (max_x - min_x) * (max_y - min_y)\n",
        "\n",
        "rectangles = [[1,1,3,3], [3,1,4,2], [3,2,4,4], [1,3,2,4], [2,3,3,4]]\n",
        "print(Solution().isRectangleCover(rectangles))"
      ]
    }
  ],
  "metadata": {
    "colab": {
      "provenance": []
    },
    "kernelspec": {
      "display_name": "Python 3",
      "name": "python3"
    },
    "language_info": {
      "name": "python"
    }
  },
  "nbformat": 4,
  "nbformat_minor": 0
}
