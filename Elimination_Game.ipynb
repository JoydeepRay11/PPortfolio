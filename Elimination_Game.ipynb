{
  "cells": [
    {
      "cell_type": "markdown",
      "metadata": {
        "id": "mfAOBtolFbQB"
      },
      "source": [
        "You have a list arr of all integers in the range [1, n] sorted in a strictly increasing order. Apply the following algorithm on arr:\n",
        "\n",
        "Starting from left to right, remove the first number and every other number afterward until you reach the end of the list.\n",
        "Repeat the previous step again, but this time from right to left, remove the rightmost number and every other number from the remaining numbers.\n",
        "Keep repeating the steps again, alternating left to right and right to left, until a single number remains.\n",
        "Given the integer n, return the last number that remains in arr."
      ]
    },
    {
      "cell_type": "code",
      "execution_count": 5,
      "metadata": {
        "colab": {
          "base_uri": "https://localhost:8080/"
        },
        "id": "_yuNJuCeGCau",
        "outputId": "3fad0ff3-3654-405e-fcc0-b158ffd9ecc7"
      },
      "outputs": [
        {
          "name": "stdout",
          "output_type": "stream",
          "text": [
            "6\n"
          ]
        }
      ],
      "source": [
        "class Solution:\n",
        "    def lastRemaining(self, n):\n",
        "        left_to_right = True\n",
        "        remaining = n\n",
        "        step = 1\n",
        "        start = 1\n",
        "\n",
        "        while remaining > 1:\n",
        "            if left_to_right or remaining % 2 == 1:\n",
        "                start += step\n",
        "\n",
        "            remaining //= 2  \n",
        "            step *= 2        \n",
        "            left_to_right = not left_to_right  \n",
        "\n",
        "        return start\n",
        "\n",
        "n = 9\n",
        "print(Solution().lastRemaining(n))"
      ]
    }
  ],
  "metadata": {
    "colab": {
      "provenance": []
    },
    "kernelspec": {
      "display_name": "Python 3",
      "name": "python3"
    },
    "language_info": {
      "name": "python"
    }
  },
  "nbformat": 4,
  "nbformat_minor": 0
}
